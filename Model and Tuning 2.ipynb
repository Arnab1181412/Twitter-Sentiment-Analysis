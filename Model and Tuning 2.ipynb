{
 "cells": [
  {
   "cell_type": "code",
   "execution_count": 1,
   "id": "a7432be6",
   "metadata": {},
   "outputs": [],
   "source": [
    "import numpy as np\n",
    "import pandas as pd\n",
    "from sklearn.linear_model import LogisticRegression\n",
    "from sklearn.svm import SVC\n",
    "from sklearn.model_selection import train_test_split\n",
    "from sklearn.ensemble import RandomForestClassifier,GradientBoostingClassifier\n",
    "from sklearn.naive_bayes import GaussianNB\n",
    "from sklearn.metrics import accuracy_score,classification_report,f1_score,confusion_matrix\n",
    "from sklearn.ensemble import VotingClassifier\n",
    "from sklearn.utils import class_weight\n",
    "from xgboost import XGBClassifier\n",
    "import pickle\n",
    "import os\n",
    "import optuna\n",
    "from collections import Counter\n",
    "from sklearn.model_selection import cross_val_score"
   ]
  },
  {
   "cell_type": "code",
   "execution_count": 2,
   "id": "c0d2a94b",
   "metadata": {},
   "outputs": [
    {
     "data": {
      "text/html": [
       "<div>\n",
       "<style scoped>\n",
       "    .dataframe tbody tr th:only-of-type {\n",
       "        vertical-align: middle;\n",
       "    }\n",
       "\n",
       "    .dataframe tbody tr th {\n",
       "        vertical-align: top;\n",
       "    }\n",
       "\n",
       "    .dataframe thead th {\n",
       "        text-align: right;\n",
       "    }\n",
       "</style>\n",
       "<table border=\"1\" class=\"dataframe\">\n",
       "  <thead>\n",
       "    <tr style=\"text-align: right;\">\n",
       "      <th></th>\n",
       "      <th>label</th>\n",
       "      <th>tweet</th>\n",
       "      <th>transformed_text</th>\n",
       "      <th>dim_0</th>\n",
       "      <th>dim_1</th>\n",
       "      <th>dim_2</th>\n",
       "      <th>dim_3</th>\n",
       "      <th>dim_4</th>\n",
       "      <th>dim_5</th>\n",
       "      <th>dim_6</th>\n",
       "      <th>...</th>\n",
       "      <th>dim_290</th>\n",
       "      <th>dim_291</th>\n",
       "      <th>dim_292</th>\n",
       "      <th>dim_293</th>\n",
       "      <th>dim_294</th>\n",
       "      <th>dim_295</th>\n",
       "      <th>dim_296</th>\n",
       "      <th>dim_297</th>\n",
       "      <th>dim_298</th>\n",
       "      <th>dim_299</th>\n",
       "    </tr>\n",
       "  </thead>\n",
       "  <tbody>\n",
       "    <tr>\n",
       "      <th>11933</th>\n",
       "      <td>1</td>\n",
       "      <td>when the waiter asks @user if he wants to eat ...</td>\n",
       "      <td>waiter asks want eat plate well</td>\n",
       "      <td>-0.053758</td>\n",
       "      <td>-0.055281</td>\n",
       "      <td>0.003843</td>\n",
       "      <td>-0.043092</td>\n",
       "      <td>-0.023579</td>\n",
       "      <td>-0.029164</td>\n",
       "      <td>0.031502</td>\n",
       "      <td>...</td>\n",
       "      <td>0.009716</td>\n",
       "      <td>0.024718</td>\n",
       "      <td>-0.008808</td>\n",
       "      <td>0.033440</td>\n",
       "      <td>0.051365</td>\n",
       "      <td>0.022327</td>\n",
       "      <td>-0.021012</td>\n",
       "      <td>0.008653</td>\n",
       "      <td>-0.040288</td>\n",
       "      <td>0.115864</td>\n",
       "    </tr>\n",
       "    <tr>\n",
       "      <th>9545</th>\n",
       "      <td>0</td>\n",
       "      <td>@user we've had some of that round here - but ...</td>\n",
       "      <td>round value democracy hence voting choice</td>\n",
       "      <td>-0.011539</td>\n",
       "      <td>-0.022748</td>\n",
       "      <td>-0.000703</td>\n",
       "      <td>-0.046094</td>\n",
       "      <td>-0.039533</td>\n",
       "      <td>-0.025102</td>\n",
       "      <td>0.009017</td>\n",
       "      <td>...</td>\n",
       "      <td>-0.007814</td>\n",
       "      <td>-0.022046</td>\n",
       "      <td>-0.024189</td>\n",
       "      <td>0.030091</td>\n",
       "      <td>0.004579</td>\n",
       "      <td>0.001028</td>\n",
       "      <td>-0.016738</td>\n",
       "      <td>0.014777</td>\n",
       "      <td>-0.018220</td>\n",
       "      <td>0.024861</td>\n",
       "    </tr>\n",
       "    <tr>\n",
       "      <th>6750</th>\n",
       "      <td>0</td>\n",
       "      <td>catchups with these cuties jcaplice @user @use...</td>\n",
       "      <td>catch ups cuties cap louse friend positive</td>\n",
       "      <td>-0.001053</td>\n",
       "      <td>-0.022454</td>\n",
       "      <td>0.052519</td>\n",
       "      <td>-0.120709</td>\n",
       "      <td>-0.099179</td>\n",
       "      <td>-0.058454</td>\n",
       "      <td>0.047138</td>\n",
       "      <td>...</td>\n",
       "      <td>-0.099811</td>\n",
       "      <td>-0.102684</td>\n",
       "      <td>-0.096895</td>\n",
       "      <td>0.103559</td>\n",
       "      <td>-0.004355</td>\n",
       "      <td>-0.114807</td>\n",
       "      <td>0.027783</td>\n",
       "      <td>-0.028831</td>\n",
       "      <td>-0.005160</td>\n",
       "      <td>-0.064972</td>\n",
       "    </tr>\n",
       "    <tr>\n",
       "      <th>5602</th>\n",
       "      <td>0</td>\n",
       "      <td>#germanyhetalia   bull up: you will dominate y...</td>\n",
       "      <td>germany talus bull dominate bull direct whatev...</td>\n",
       "      <td>0.037659</td>\n",
       "      <td>-0.000054</td>\n",
       "      <td>-0.033957</td>\n",
       "      <td>-0.017696</td>\n",
       "      <td>-0.033497</td>\n",
       "      <td>-0.032891</td>\n",
       "      <td>-0.024620</td>\n",
       "      <td>...</td>\n",
       "      <td>0.047432</td>\n",
       "      <td>-0.020500</td>\n",
       "      <td>-0.035065</td>\n",
       "      <td>0.021086</td>\n",
       "      <td>-0.060104</td>\n",
       "      <td>0.045871</td>\n",
       "      <td>-0.068570</td>\n",
       "      <td>0.001316</td>\n",
       "      <td>-0.006666</td>\n",
       "      <td>-0.019656</td>\n",
       "    </tr>\n",
       "    <tr>\n",
       "      <th>11049</th>\n",
       "      <td>0</td>\n",
       "      <td>going to see the1975 again ð only this time...</td>\n",
       "      <td>going see time much love guy</td>\n",
       "      <td>-0.041699</td>\n",
       "      <td>-0.014913</td>\n",
       "      <td>-0.014300</td>\n",
       "      <td>-0.042881</td>\n",
       "      <td>-0.017215</td>\n",
       "      <td>-0.040633</td>\n",
       "      <td>-0.006785</td>\n",
       "      <td>...</td>\n",
       "      <td>-0.002748</td>\n",
       "      <td>0.019797</td>\n",
       "      <td>0.027992</td>\n",
       "      <td>0.015074</td>\n",
       "      <td>-0.010629</td>\n",
       "      <td>0.023877</td>\n",
       "      <td>-0.015061</td>\n",
       "      <td>0.035626</td>\n",
       "      <td>-0.036370</td>\n",
       "      <td>0.042530</td>\n",
       "    </tr>\n",
       "  </tbody>\n",
       "</table>\n",
       "<p>5 rows × 303 columns</p>\n",
       "</div>"
      ],
      "text/plain": [
       "       label                                              tweet  \\\n",
       "11933      1  when the waiter asks @user if he wants to eat ...   \n",
       "9545       0  @user we've had some of that round here - but ...   \n",
       "6750       0  catchups with these cuties jcaplice @user @use...   \n",
       "5602       0  #germanyhetalia   bull up: you will dominate y...   \n",
       "11049      0  going to see the1975 again ð only this time...   \n",
       "\n",
       "                                        transformed_text     dim_0     dim_1  \\\n",
       "11933                    waiter asks want eat plate well -0.053758 -0.055281   \n",
       "9545           round value democracy hence voting choice -0.011539 -0.022748   \n",
       "6750          catch ups cuties cap louse friend positive -0.001053 -0.022454   \n",
       "5602   germany talus bull dominate bull direct whatev...  0.037659 -0.000054   \n",
       "11049                       going see time much love guy -0.041699 -0.014913   \n",
       "\n",
       "          dim_2     dim_3     dim_4     dim_5     dim_6  ...   dim_290  \\\n",
       "11933  0.003843 -0.043092 -0.023579 -0.029164  0.031502  ...  0.009716   \n",
       "9545  -0.000703 -0.046094 -0.039533 -0.025102  0.009017  ... -0.007814   \n",
       "6750   0.052519 -0.120709 -0.099179 -0.058454  0.047138  ... -0.099811   \n",
       "5602  -0.033957 -0.017696 -0.033497 -0.032891 -0.024620  ...  0.047432   \n",
       "11049 -0.014300 -0.042881 -0.017215 -0.040633 -0.006785  ... -0.002748   \n",
       "\n",
       "        dim_291   dim_292   dim_293   dim_294   dim_295   dim_296   dim_297  \\\n",
       "11933  0.024718 -0.008808  0.033440  0.051365  0.022327 -0.021012  0.008653   \n",
       "9545  -0.022046 -0.024189  0.030091  0.004579  0.001028 -0.016738  0.014777   \n",
       "6750  -0.102684 -0.096895  0.103559 -0.004355 -0.114807  0.027783 -0.028831   \n",
       "5602  -0.020500 -0.035065  0.021086 -0.060104  0.045871 -0.068570  0.001316   \n",
       "11049  0.019797  0.027992  0.015074 -0.010629  0.023877 -0.015061  0.035626   \n",
       "\n",
       "        dim_298   dim_299  \n",
       "11933 -0.040288  0.115864  \n",
       "9545  -0.018220  0.024861  \n",
       "6750  -0.005160 -0.064972  \n",
       "5602  -0.006666 -0.019656  \n",
       "11049 -0.036370  0.042530  \n",
       "\n",
       "[5 rows x 303 columns]"
      ]
     },
     "execution_count": 2,
     "metadata": {},
     "output_type": "execute_result"
    }
   ],
   "source": [
    "train = pd.read_csv('train_final.csv').drop(columns = 'Unnamed: 0').sample(frac = 1)\n",
    "validation = pd.read_csv('validation_final.csv').drop(columns = 'Unnamed: 0')\n",
    "train.head()"
   ]
  },
  {
   "cell_type": "code",
   "execution_count": 3,
   "id": "884251a5",
   "metadata": {},
   "outputs": [
    {
     "data": {
      "text/plain": [
       "label               0\n",
       "tweet               0\n",
       "transformed_text    0\n",
       "dim_0               0\n",
       "dim_1               0\n",
       "                   ..\n",
       "dim_295             0\n",
       "dim_296             0\n",
       "dim_297             0\n",
       "dim_298             0\n",
       "dim_299             0\n",
       "Length: 303, dtype: int64"
      ]
     },
     "execution_count": 3,
     "metadata": {},
     "output_type": "execute_result"
    }
   ],
   "source": [
    "train.isnull().sum()"
   ]
  },
  {
   "cell_type": "code",
   "execution_count": 4,
   "id": "a253edd9",
   "metadata": {},
   "outputs": [],
   "source": [
    "class model:\n",
    "    '''\n",
    "    Logistic Regression\n",
    "    SVC\n",
    "    XGBClassifier\n",
    "    RandomForestClassifier\n",
    "    GradientBoostingClassifier\n",
    "    GaussianNB\n",
    "    '''\n",
    "    def __init__(self,model_class_weight):\n",
    "        \n",
    "        self.models = [LogisticRegression(class_weight=model_class_weight),SVC(class_weight=model_class_weight),\n",
    "                       XGBClassifier(class_weight=model_class_weight),RandomForestClassifier(class_weight=model_class_weight)\n",
    "                      ,GaussianNB(),GradientBoostingClassifier()]\n",
    "        self.model_names = ['LogisticRegression','SVC','XGBClassifier','RandomForestClassifier'\n",
    "                              ,'GradientBoostingClassifier','GaussianNB']\n",
    "        self.X = None\n",
    "        self.y = None\n",
    "        \n",
    "    def fit(self,X,Y):\n",
    "        \n",
    "        self._fitted_models = []\n",
    "        for model,model_name in zip(self.models,self.model_names):\n",
    "            \n",
    "            globals()['model_' + model_name] = model\n",
    "            globals()['model_' + model_name].fit(X,Y)\n",
    "            self._fitted_models.append(globals()['model_' + model_name])\n",
    "            \n",
    "    def evaluate(self,X,Y):\n",
    "        \n",
    "        self.predictions = dict()\n",
    "        self.accuracy = dict()\n",
    "        self.class_report = dict()\n",
    "        for fitted_model,model_name in zip(self._fitted_models,self.model_names):\n",
    "            \n",
    "            self.predictions[model_name] = fitted_model.predict(X)\n",
    "            self.accuracy[model_name] = accuracy_score(Y,self.predictions[model_name])\n",
    "            self.class_report[model_name] = classification_report(Y,self.predictions[model_name])\n",
    "            \n",
    "    def print_results(self):\n",
    "        \n",
    "        \n",
    "        for model in self.model_names:\n",
    "            \n",
    "            print(model)\n",
    "            print('-'*80)\n",
    "            print(\"Accuracy :  {:.6}%\".format(self.accuracy[model]*100))\n",
    "            print('Classification Report')\n",
    "            print(self.class_report[model])\n",
    "            print('- -'*40)\n",
    "            print('- -'*40)\n",
    "        \n",
    "        \n",
    "    def voting_fit(self,X,Y):\n",
    "        \n",
    "        estimators = [(model_name,model) for model_name,model in zip(model_names,self.models)]\n",
    "        \n",
    "        voter = VotingClassifier(estimators=estimators,n_jobs = -1,verbose = True)\n",
    "        voter.fit(X,Y)\n",
    "        \n",
    "        self.__voting_classifier = voter\n",
    "        \n",
    "    def voting_evaluate(self,X,Y):\n",
    "        \n",
    "        voter = self.__voting_classifier\n",
    "        predictions = voter.predict(X)\n",
    "        fitted_models = voter.estimators_\n",
    "        for fitted_model,model_name in zip(fitted_models,self.model_names):\n",
    "            \n",
    "            each_model_predictions = fitted_model.predict(X)\n",
    "            each_model_accuracy  = accuracy_score(Y,each_model_predictions)\n",
    "            \n",
    "            print(\"{} gave {:.6}% accuracy\".format(model_name,each_model_accuracy*100))\n",
    "            \n",
    "        accuracy = accuracy_score(Y,predictions)\n",
    "        class_report = classification_report(Y,predictions)\n",
    "        \n",
    "        return accuracy,class_report,predictions\n",
    "    \n"
   ]
  },
  {
   "cell_type": "code",
   "execution_count": 5,
   "id": "54a0d248",
   "metadata": {},
   "outputs": [
    {
     "data": {
      "text/plain": [
       "{0: 0.5758604690399866, 1: 3.7955240478176258}"
      ]
     },
     "execution_count": 5,
     "metadata": {},
     "output_type": "execute_result"
    }
   ],
   "source": [
    "model_class_weight = class_weight.compute_class_weight(class_weight = 'balanced',classes = np.unique(train['label']),y = train['label'])\n",
    "weights = {}\n",
    "for i,cls_weight in enumerate(model_class_weight):\n",
    "    weights[i] = cls_weight\n",
    "weights  "
   ]
  },
  {
   "cell_type": "code",
   "execution_count": 9,
   "id": "dd2d6075",
   "metadata": {
    "scrolled": true
   },
   "outputs": [
    {
     "name": "stdout",
     "output_type": "stream",
     "text": [
      "LogisticRegression\n",
      "--------------------------------------------------------------------------------\n",
      "Accuracy :  55.04%\n",
      "Classification Report\n",
      "              precision    recall  f1-score   support\n",
      "\n",
      "           0       0.97      0.53      0.69      5941\n",
      "           1       0.11      0.82      0.20       438\n",
      "\n",
      "    accuracy                           0.55      6379\n",
      "   macro avg       0.54      0.67      0.44      6379\n",
      "weighted avg       0.92      0.55      0.65      6379\n",
      "\n",
      "- -- -- -- -- -- -- -- -- -- -- -- -- -- -- -- -- -- -- -- -- -- -- -- -- -- -- -- -- -- -- -- -- -- -- -- -- -- -- -- -\n",
      "- -- -- -- -- -- -- -- -- -- -- -- -- -- -- -- -- -- -- -- -- -- -- -- -- -- -- -- -- -- -- -- -- -- -- -- -- -- -- -- -\n",
      "SVC\n",
      "--------------------------------------------------------------------------------\n",
      "Accuracy :  57.6579%\n",
      "Classification Report\n",
      "              precision    recall  f1-score   support\n",
      "\n",
      "           0       0.98      0.56      0.71      5941\n",
      "           1       0.12      0.82      0.21       438\n",
      "\n",
      "    accuracy                           0.58      6379\n",
      "   macro avg       0.55      0.69      0.46      6379\n",
      "weighted avg       0.92      0.58      0.68      6379\n",
      "\n",
      "- -- -- -- -- -- -- -- -- -- -- -- -- -- -- -- -- -- -- -- -- -- -- -- -- -- -- -- -- -- -- -- -- -- -- -- -- -- -- -- -\n",
      "- -- -- -- -- -- -- -- -- -- -- -- -- -- -- -- -- -- -- -- -- -- -- -- -- -- -- -- -- -- -- -- -- -- -- -- -- -- -- -- -\n",
      "XGBClassifier\n",
      "--------------------------------------------------------------------------------\n",
      "Accuracy :  92.538%\n",
      "Classification Report\n",
      "              precision    recall  f1-score   support\n",
      "\n",
      "           0       0.95      0.97      0.96      5941\n",
      "           1       0.45      0.38      0.41       438\n",
      "\n",
      "    accuracy                           0.93      6379\n",
      "   macro avg       0.70      0.67      0.68      6379\n",
      "weighted avg       0.92      0.93      0.92      6379\n",
      "\n",
      "- -- -- -- -- -- -- -- -- -- -- -- -- -- -- -- -- -- -- -- -- -- -- -- -- -- -- -- -- -- -- -- -- -- -- -- -- -- -- -- -\n",
      "- -- -- -- -- -- -- -- -- -- -- -- -- -- -- -- -- -- -- -- -- -- -- -- -- -- -- -- -- -- -- -- -- -- -- -- -- -- -- -- -\n",
      "RandomForestClassifier\n",
      "--------------------------------------------------------------------------------\n",
      "Accuracy :  89.4498%\n",
      "Classification Report\n",
      "              precision    recall  f1-score   support\n",
      "\n",
      "           0       0.96      0.93      0.94      5941\n",
      "           1       0.31      0.44      0.36       438\n",
      "\n",
      "    accuracy                           0.89      6379\n",
      "   macro avg       0.63      0.68      0.65      6379\n",
      "weighted avg       0.91      0.89      0.90      6379\n",
      "\n",
      "- -- -- -- -- -- -- -- -- -- -- -- -- -- -- -- -- -- -- -- -- -- -- -- -- -- -- -- -- -- -- -- -- -- -- -- -- -- -- -- -\n",
      "- -- -- -- -- -- -- -- -- -- -- -- -- -- -- -- -- -- -- -- -- -- -- -- -- -- -- -- -- -- -- -- -- -- -- -- -- -- -- -- -\n",
      "GradientBoostingClassifier\n",
      "--------------------------------------------------------------------------------\n",
      "Accuracy :  34.0022%\n",
      "Classification Report\n",
      "              precision    recall  f1-score   support\n",
      "\n",
      "           0       0.98      0.30      0.46      5941\n",
      "           1       0.09      0.92      0.16       438\n",
      "\n",
      "    accuracy                           0.34      6379\n",
      "   macro avg       0.53      0.61      0.31      6379\n",
      "weighted avg       0.92      0.34      0.44      6379\n",
      "\n",
      "- -- -- -- -- -- -- -- -- -- -- -- -- -- -- -- -- -- -- -- -- -- -- -- -- -- -- -- -- -- -- -- -- -- -- -- -- -- -- -- -\n",
      "- -- -- -- -- -- -- -- -- -- -- -- -- -- -- -- -- -- -- -- -- -- -- -- -- -- -- -- -- -- -- -- -- -- -- -- -- -- -- -- -\n",
      "GaussianNB\n",
      "--------------------------------------------------------------------------------\n",
      "Accuracy :  93.7294%\n",
      "Classification Report\n",
      "              precision    recall  f1-score   support\n",
      "\n",
      "           0       0.95      0.99      0.97      5941\n",
      "           1       0.61      0.24      0.34       438\n",
      "\n",
      "    accuracy                           0.94      6379\n",
      "   macro avg       0.78      0.61      0.65      6379\n",
      "weighted avg       0.92      0.94      0.92      6379\n",
      "\n",
      "- -- -- -- -- -- -- -- -- -- -- -- -- -- -- -- -- -- -- -- -- -- -- -- -- -- -- -- -- -- -- -- -- -- -- -- -- -- -- -- -\n",
      "- -- -- -- -- -- -- -- -- -- -- -- -- -- -- -- -- -- -- -- -- -- -- -- -- -- -- -- -- -- -- -- -- -- -- -- -- -- -- -- -\n"
     ]
    }
   ],
   "source": [
    "base_model = model(weights)\n",
    "base_model.fit(np.array(train.iloc[:,3:]),train['label'])\n",
    "base_model.evaluate(np.array(validation.iloc[:,3:]),validation['label'])\n",
    "base_model.print_results()\n",
    "os.makedirs('/content/drive/MyDrive/Colab Notebooks/Sentiment Analysis/Models')\n",
    "with open('Models/base_model.pkl','wb') as f:\n",
    "    pickle.dump(base_model,f)"
   ]
  },
  {
   "cell_type": "code",
   "execution_count": 4,
   "id": "828cbd7a",
   "metadata": {},
   "outputs": [
    {
     "name": "stderr",
     "output_type": "stream",
     "text": [
      "\u001b[32m[I 2022-02-20 01:38:35,416]\u001b[0m A new study created in memory with name: no-name-da278570-7337-443e-a263-d78e730a0ce9\u001b[0m\n",
      "\u001b[32m[I 2022-02-20 01:40:17,400]\u001b[0m Trial 0 finished with value: 0.42635548775534376 and parameters: {'n_estimators': 1000, 'max_depth': 10, 'min_samples_split': 21, 'min_samples_leaf': 9, 'max_features': 'sqrt', 'weight_0': 0.8571428571428571, 'weight_1': 10}. Best is trial 0 with value: 0.42635548775534376.\u001b[0m\n",
      "\u001b[32m[I 2022-02-20 01:42:14,002]\u001b[0m Trial 1 finished with value: 0.5035519347701961 and parameters: {'n_estimators': 1000, 'max_depth': 16, 'min_samples_split': 24, 'min_samples_leaf': 12, 'max_features': 'sqrt', 'weight_0': 0.9183673469387754, 'weight_1': 10}. Best is trial 1 with value: 0.5035519347701961.\u001b[0m\n",
      "\u001b[32m[I 2022-02-20 01:42:45,395]\u001b[0m Trial 2 finished with value: 0.4377635443986901 and parameters: {'n_estimators': 500, 'max_depth': 15, 'min_samples_split': 20, 'min_samples_leaf': 8, 'max_features': 'log2', 'weight_0': 0.2040816326530612, 'weight_1': 4}. Best is trial 1 with value: 0.5035519347701961.\u001b[0m\n",
      "\u001b[32m[I 2022-02-20 01:44:02,623]\u001b[0m Trial 3 finished with value: 0.4635389391827707 and parameters: {'n_estimators': 700, 'max_depth': 14, 'min_samples_split': 28, 'min_samples_leaf': 22, 'max_features': 'sqrt', 'weight_0': 0.4081632653061224, 'weight_1': 5}. Best is trial 1 with value: 0.5035519347701961.\u001b[0m\n",
      "\u001b[32m[I 2022-02-20 01:44:54,376]\u001b[0m Trial 4 finished with value: 0.4913606016644807 and parameters: {'n_estimators': 1000, 'max_depth': 12, 'min_samples_split': 14, 'min_samples_leaf': 28, 'max_features': 'log2', 'weight_0': 0.8163265306122448, 'weight_1': 3.7955240478176258}. Best is trial 1 with value: 0.5035519347701961.\u001b[0m\n",
      "\u001b[32m[I 2022-02-20 01:46:38,506]\u001b[0m Trial 5 finished with value: 0.46350601203953357 and parameters: {'n_estimators': 800, 'max_depth': 18, 'min_samples_split': 14, 'min_samples_leaf': 13, 'max_features': 'sqrt', 'weight_0': 0.9183673469387754, 'weight_1': 20}. Best is trial 1 with value: 0.5035519347701961.\u001b[0m\n",
      "\u001b[32m[I 2022-02-20 01:47:28,831]\u001b[0m Trial 6 finished with value: 0.4318263755653506 and parameters: {'n_estimators': 1100, 'max_depth': 8, 'min_samples_split': 5, 'min_samples_leaf': 13, 'max_features': 'log2', 'weight_0': 0.42857142857142855, 'weight_1': 1}. Best is trial 1 with value: 0.5035519347701961.\u001b[0m\n",
      "\u001b[32m[I 2022-02-20 01:47:46,434]\u001b[0m Trial 7 finished with value: 0.2867829601718377 and parameters: {'n_estimators': 800, 'max_depth': 3, 'min_samples_split': 25, 'min_samples_leaf': 10, 'max_features': 'log2', 'weight_0': 0.8979591836734693, 'weight_1': 20}. Best is trial 1 with value: 0.5035519347701961.\u001b[0m\n",
      "\u001b[32m[I 2022-02-20 01:48:50,038]\u001b[0m Trial 8 finished with value: 0.3457611396441273 and parameters: {'n_estimators': 600, 'max_depth': 9, 'min_samples_split': 20, 'min_samples_leaf': 27, 'max_features': 'sqrt', 'weight_0': 0.04081632653061224, 'weight_1': 1}. Best is trial 1 with value: 0.5035519347701961.\u001b[0m\n",
      "\u001b[32m[I 2022-02-20 01:50:05,436]\u001b[0m Trial 9 finished with value: 0.31802081213151656 and parameters: {'n_estimators': 700, 'max_depth': 10, 'min_samples_split': 30, 'min_samples_leaf': 29, 'max_features': 'sqrt', 'weight_0': 0.8775510204081632, 'weight_1': 50}. Best is trial 1 with value: 0.5035519347701961.\u001b[0m\n",
      "\u001b[32m[I 2022-02-20 01:52:40,540]\u001b[0m Trial 10 finished with value: 0.5002180873596727 and parameters: {'n_estimators': 1200, 'max_depth': 20, 'min_samples_split': 6, 'min_samples_leaf': 4, 'max_features': 'sqrt', 'weight_0': 0.7755102040816326, 'weight_1': 2}. Best is trial 1 with value: 0.5035519347701961.\u001b[0m\n",
      "\u001b[32m[I 2022-02-20 01:55:16,130]\u001b[0m Trial 11 finished with value: 0.5270369582511419 and parameters: {'n_estimators': 1200, 'max_depth': 20, 'min_samples_split': 2, 'min_samples_leaf': 2, 'max_features': 'sqrt', 'weight_0': 0.26530612244897955, 'weight_1': 2}. Best is trial 11 with value: 0.5270369582511419.\u001b[0m\n",
      "\u001b[32m[I 2022-02-20 01:57:56,309]\u001b[0m Trial 12 finished with value: 0.5218317409929251 and parameters: {'n_estimators': 1200, 'max_depth': 20, 'min_samples_split': 2, 'min_samples_leaf': 3, 'max_features': 'sqrt', 'weight_0': 0.9183673469387754, 'weight_1': 10}. Best is trial 11 with value: 0.5270369582511419.\u001b[0m\n",
      "\u001b[32m[I 2022-02-20 02:00:52,012]\u001b[0m Trial 13 finished with value: 0.4749255476264038 and parameters: {'n_estimators': 1200, 'max_depth': 20, 'min_samples_split': 2, 'min_samples_leaf': 2, 'max_features': 'sqrt', 'weight_0': 0.08163265306122448, 'weight_1': 2}. Best is trial 11 with value: 0.5270369582511419.\u001b[0m\n",
      "\u001b[32m[I 2022-02-20 02:04:15,124]\u001b[0m Trial 14 finished with value: 0.3417201994228431 and parameters: {'n_estimators': 1200, 'max_depth': 18, 'min_samples_split': 10, 'min_samples_leaf': 5, 'max_features': 'sqrt', 'weight_0': 0.02040816326530612, 'weight_1': 2}. Best is trial 11 with value: 0.5270369582511419.\u001b[0m\n",
      "\u001b[32m[I 2022-02-20 02:06:49,215]\u001b[0m Trial 15 finished with value: 0.4233695263695098 and parameters: {'n_estimators': 1100, 'max_depth': 20, 'min_samples_split': 2, 'min_samples_leaf': 18, 'max_features': 'sqrt', 'weight_0': 0.26530612244897955, 'weight_1': 10}. Best is trial 11 with value: 0.5270369582511419.\u001b[0m\n",
      "\u001b[32m[I 2022-02-20 02:07:47,819]\u001b[0m Trial 16 finished with value: 0.38452751225319814 and parameters: {'n_estimators': 1100, 'max_depth': 4, 'min_samples_split': 8, 'min_samples_leaf': 2, 'max_features': 'sqrt', 'weight_0': 0.5714285714285714, 'weight_1': 4}. Best is trial 11 with value: 0.5270369582511419.\u001b[0m\n",
      "\u001b[32m[I 2022-02-20 02:10:23,387]\u001b[0m Trial 17 finished with value: 0.5074231146712075 and parameters: {'n_estimators': 1200, 'max_depth': 18, 'min_samples_split': 2, 'min_samples_leaf': 7, 'max_features': 'sqrt', 'weight_0': 0.7142857142857142, 'weight_1': 10}. Best is trial 11 with value: 0.5270369582511419.\u001b[0m\n",
      "\u001b[32m[I 2022-02-20 02:11:30,738]\u001b[0m Trial 18 finished with value: 0.2957968234288692 and parameters: {'n_estimators': 900, 'max_depth': 6, 'min_samples_split': 11, 'min_samples_leaf': 17, 'max_features': 'sqrt', 'weight_0': 1.0, 'weight_1': 50}. Best is trial 11 with value: 0.5270369582511419.\u001b[0m\n",
      "\u001b[32m[I 2022-02-20 02:13:40,717]\u001b[0m Trial 19 finished with value: 0.47819701857625047 and parameters: {'n_estimators': 1100, 'max_depth': 13, 'min_samples_split': 5, 'min_samples_leaf': 5, 'max_features': 'sqrt', 'weight_0': 0.44897959183673464, 'weight_1': 5}. Best is trial 11 with value: 0.5270369582511419.\u001b[0m\n",
      "\u001b[32m[I 2022-02-20 02:15:21,270]\u001b[0m Trial 20 finished with value: 0.5196790727740543 and parameters: {'n_estimators': 900, 'max_depth': 18, 'min_samples_split': 2, 'min_samples_leaf': 21, 'max_features': 'sqrt', 'weight_0': 0.673469387755102, 'weight_1': 3.7955240478176258}. Best is trial 11 with value: 0.5270369582511419.\u001b[0m\n",
      "\u001b[32m[I 2022-02-20 02:17:01,867]\u001b[0m Trial 21 finished with value: 0.5178770519152213 and parameters: {'n_estimators': 900, 'max_depth': 17, 'min_samples_split': 2, 'min_samples_leaf': 22, 'max_features': 'sqrt', 'weight_0': 0.673469387755102, 'weight_1': 3.7955240478176258}. Best is trial 11 with value: 0.5270369582511419.\u001b[0m\n",
      "\u001b[32m[I 2022-02-20 02:18:52,927]\u001b[0m Trial 22 finished with value: 0.5172778315588139 and parameters: {'n_estimators': 1000, 'max_depth': 20, 'min_samples_split': 5, 'min_samples_leaf': 22, 'max_features': 'sqrt', 'weight_0': 0.673469387755102, 'weight_1': 3.7955240478176258}. Best is trial 11 with value: 0.5270369582511419.\u001b[0m\n",
      "\u001b[32m[I 2022-02-20 02:19:49,675]\u001b[0m Trial 23 finished with value: 0.5209673855255296 and parameters: {'n_estimators': 500, 'max_depth': 19, 'min_samples_split': 8, 'min_samples_leaf': 19, 'max_features': 'sqrt', 'weight_0': 0.7551020408163265, 'weight_1': 3.7955240478176258}. Best is trial 11 with value: 0.5270369582511419.\u001b[0m\n",
      "\u001b[32m[I 2022-02-20 02:20:45,495]\u001b[0m Trial 24 finished with value: 0.4919040844973445 and parameters: {'n_estimators': 500, 'max_depth': 16, 'min_samples_split': 8, 'min_samples_leaf': 19, 'max_features': 'sqrt', 'weight_0': 0.7551020408163265, 'weight_1': 2}. Best is trial 11 with value: 0.5270369582511419.\u001b[0m\n",
      "\u001b[32m[I 2022-02-20 02:22:00,913]\u001b[0m Trial 25 finished with value: 0.48174074211838974 and parameters: {'n_estimators': 600, 'max_depth': 19, 'min_samples_split': 8, 'min_samples_leaf': 16, 'max_features': 'sqrt', 'weight_0': 0.5918367346938775, 'weight_1': 10}. Best is trial 11 with value: 0.5270369582511419.\u001b[0m\n"
     ]
    },
    {
     "name": "stderr",
     "output_type": "stream",
     "text": [
      "\u001b[32m[I 2022-02-20 02:24:11,723]\u001b[0m Trial 26 finished with value: 0.5160970656122736 and parameters: {'n_estimators': 1200, 'max_depth': 20, 'min_samples_split': 4, 'min_samples_leaf': 26, 'max_features': 'sqrt', 'weight_0': 0.7551020408163265, 'weight_1': 3.7955240478176258}. Best is trial 11 with value: 0.5270369582511419.\u001b[0m\n",
      "\u001b[32m[I 2022-02-20 02:24:45,764]\u001b[0m Trial 27 finished with value: 0.4907008138672044 and parameters: {'n_estimators': 600, 'max_depth': 16, 'min_samples_split': 13, 'min_samples_leaf': 25, 'max_features': 'log2', 'weight_0': 0.26530612244897955, 'weight_1': 2}. Best is trial 11 with value: 0.5270369582511419.\u001b[0m\n",
      "\u001b[32m[I 2022-02-20 02:27:35,582]\u001b[0m Trial 28 finished with value: 0.3904078124246842 and parameters: {'n_estimators': 1100, 'max_depth': 19, 'min_samples_split': 10, 'min_samples_leaf': 14, 'max_features': 'sqrt', 'weight_0': 0.3469387755102041, 'weight_1': 20}. Best is trial 11 with value: 0.5270369582511419.\u001b[0m\n",
      "\u001b[32m[I 2022-02-20 02:29:01,203]\u001b[0m Trial 29 finished with value: 0.43430548068056524 and parameters: {'n_estimators': 700, 'max_depth': 14, 'min_samples_split': 16, 'min_samples_leaf': 10, 'max_features': 'sqrt', 'weight_0': 0.5102040816326531, 'weight_1': 10}. Best is trial 11 with value: 0.5270369582511419.\u001b[0m\n",
      "\u001b[32m[I 2022-02-20 02:31:08,092]\u001b[0m Trial 30 finished with value: 0.518537262428655 and parameters: {'n_estimators': 1000, 'max_depth': 17, 'min_samples_split': 17, 'min_samples_leaf': 2, 'max_features': 'sqrt', 'weight_0': 0.6122448979591836, 'weight_1': 2}. Best is trial 11 with value: 0.5270369582511419.\u001b[0m\n",
      "\u001b[32m[I 2022-02-20 02:32:51,937]\u001b[0m Trial 31 finished with value: 0.5078347807483979 and parameters: {'n_estimators': 900, 'max_depth': 19, 'min_samples_split': 3, 'min_samples_leaf': 20, 'max_features': 'sqrt', 'weight_0': 0.4693877551020408, 'weight_1': 3.7955240478176258}. Best is trial 11 with value: 0.5270369582511419.\u001b[0m\n",
      "\u001b[32m[I 2022-02-20 02:34:23,622]\u001b[0m Trial 32 finished with value: 0.4900386973127664 and parameters: {'n_estimators': 800, 'max_depth': 18, 'min_samples_split': 7, 'min_samples_leaf': 24, 'max_features': 'sqrt', 'weight_0': 0.36734693877551017, 'weight_1': 3.7955240478176258}. Best is trial 11 with value: 0.5270369582511419.\u001b[0m\n",
      "\u001b[32m[I 2022-02-20 02:35:20,397]\u001b[0m Trial 33 finished with value: 0.5148124005941792 and parameters: {'n_estimators': 500, 'max_depth': 17, 'min_samples_split': 4, 'min_samples_leaf': 20, 'max_features': 'sqrt', 'weight_0': 0.6938775510204082, 'weight_1': 3.7955240478176258}. Best is trial 11 with value: 0.5270369582511419.\u001b[0m\n",
      "\u001b[32m[I 2022-02-20 02:37:55,171]\u001b[0m Trial 34 finished with value: 0.34972759427242445 and parameters: {'n_estimators': 1100, 'max_depth': 15, 'min_samples_split': 2, 'min_samples_leaf': 15, 'max_features': 'sqrt', 'weight_0': 0.061224489795918366, 'weight_1': 4}. Best is trial 11 with value: 0.5270369582511419.\u001b[0m\n",
      "\u001b[32m[I 2022-02-20 02:39:45,419]\u001b[0m Trial 35 finished with value: 0.5122123206646525 and parameters: {'n_estimators': 1000, 'max_depth': 19, 'min_samples_split': 6, 'min_samples_leaf': 23, 'max_features': 'sqrt', 'weight_0': 0.9387755102040816, 'weight_1': 3.7955240478176258}. Best is trial 11 with value: 0.5270369582511419.\u001b[0m\n",
      "\u001b[32m[I 2022-02-20 02:41:01,704]\u001b[0m Trial 36 finished with value: 0.3873964855906511 and parameters: {'n_estimators': 1200, 'max_depth': 15, 'min_samples_split': 4, 'min_samples_leaf': 20, 'max_features': 'log2', 'weight_0': 0.16326530612244897, 'weight_1': 5}. Best is trial 11 with value: 0.5270369582511419.\u001b[0m\n",
      "\u001b[32m[I 2022-02-20 02:42:51,258]\u001b[0m Trial 37 finished with value: 0.4973717329413792 and parameters: {'n_estimators': 900, 'max_depth': 17, 'min_samples_split': 12, 'min_samples_leaf': 17, 'max_features': 'sqrt', 'weight_0': 0.9183673469387754, 'weight_1': 10}. Best is trial 11 with value: 0.5270369582511419.\u001b[0m\n",
      "\u001b[32m[I 2022-02-20 02:44:19,904]\u001b[0m Trial 38 finished with value: 0.5024230254669987 and parameters: {'n_estimators': 800, 'max_depth': 12, 'min_samples_split': 9, 'min_samples_leaf': 11, 'max_features': 'sqrt', 'weight_0': 0.32653061224489793, 'weight_1': 1}. Best is trial 11 with value: 0.5270369582511419.\u001b[0m\n",
      "\u001b[32m[I 2022-02-20 02:45:00,244]\u001b[0m Trial 39 finished with value: 0.5031505734052973 and parameters: {'n_estimators': 700, 'max_depth': 19, 'min_samples_split': 6, 'min_samples_leaf': 21, 'max_features': 'log2', 'weight_0': 0.9795918367346939, 'weight_1': 3.7955240478176258}. Best is trial 11 with value: 0.5270369582511419.\u001b[0m\n",
      "\u001b[32m[I 2022-02-20 02:47:30,269]\u001b[0m Trial 40 finished with value: 0.35559259190571235 and parameters: {'n_estimators': 1000, 'max_depth': 16, 'min_samples_split': 23, 'min_samples_leaf': 4, 'max_features': 'sqrt', 'weight_0': 0.7959183673469387, 'weight_1': 50}. Best is trial 11 with value: 0.5270369582511419.\u001b[0m\n",
      "\u001b[32m[I 2022-02-20 02:49:37,611]\u001b[0m Trial 41 finished with value: 0.5164567500374181 and parameters: {'n_estimators': 1000, 'max_depth': 18, 'min_samples_split': 17, 'min_samples_leaf': 2, 'max_features': 'sqrt', 'weight_0': 0.6122448979591836, 'weight_1': 2}. Best is trial 11 with value: 0.5270369582511419.\u001b[0m\n",
      "\u001b[32m[I 2022-02-20 02:51:27,256]\u001b[0m Trial 42 finished with value: 0.5178435631360113 and parameters: {'n_estimators': 900, 'max_depth': 17, 'min_samples_split': 18, 'min_samples_leaf': 7, 'max_features': 'sqrt', 'weight_0': 0.6122448979591836, 'weight_1': 2}. Best is trial 11 with value: 0.5270369582511419.\u001b[0m\n",
      "\u001b[32m[I 2022-02-20 02:53:32,816]\u001b[0m Trial 43 finished with value: 0.523369341749223 and parameters: {'n_estimators': 1000, 'max_depth': 20, 'min_samples_split': 19, 'min_samples_leaf': 3, 'max_features': 'sqrt', 'weight_0': 0.4897959183673469, 'weight_1': 2}. Best is trial 11 with value: 0.5270369582511419.\u001b[0m\n",
      "\u001b[32m[I 2022-02-20 02:55:09,666]\u001b[0m Trial 44 finished with value: 0.5214800510262517 and parameters: {'n_estimators': 800, 'max_depth': 20, 'min_samples_split': 20, 'min_samples_leaf': 8, 'max_features': 'sqrt', 'weight_0': 0.4897959183673469, 'weight_1': 2}. Best is trial 11 with value: 0.5270369582511419.\u001b[0m\n",
      "\u001b[32m[I 2022-02-20 02:57:27,159]\u001b[0m Trial 45 finished with value: 0.5246401043464034 and parameters: {'n_estimators': 1100, 'max_depth': 20, 'min_samples_split': 21, 'min_samples_leaf': 4, 'max_features': 'sqrt', 'weight_0': 0.4897959183673469, 'weight_1': 2}. Best is trial 11 with value: 0.5270369582511419.\u001b[0m\n",
      "\u001b[32m[I 2022-02-20 02:59:55,996]\u001b[0m Trial 46 finished with value: 0.5249106867392975 and parameters: {'n_estimators': 1200, 'max_depth': 20, 'min_samples_split': 21, 'min_samples_leaf': 4, 'max_features': 'sqrt', 'weight_0': 0.4897959183673469, 'weight_1': 2}. Best is trial 11 with value: 0.5270369582511419.\u001b[0m\n",
      "\u001b[32m[I 2022-02-20 03:02:24,462]\u001b[0m Trial 47 finished with value: 0.525766841893493 and parameters: {'n_estimators': 1200, 'max_depth': 20, 'min_samples_split': 26, 'min_samples_leaf': 4, 'max_features': 'sqrt', 'weight_0': 0.4897959183673469, 'weight_1': 2}. Best is trial 11 with value: 0.5270369582511419.\u001b[0m\n",
      "\u001b[32m[I 2022-02-20 03:04:39,656]\u001b[0m Trial 48 finished with value: 0.5246418148519111 and parameters: {'n_estimators': 1100, 'max_depth': 20, 'min_samples_split': 25, 'min_samples_leaf': 5, 'max_features': 'sqrt', 'weight_0': 0.4897959183673469, 'weight_1': 2}. Best is trial 11 with value: 0.5270369582511419.\u001b[0m\n",
      "\u001b[32m[I 2022-02-20 03:05:54,051]\u001b[0m Trial 49 finished with value: 0.5186488906480812 and parameters: {'n_estimators': 1200, 'max_depth': 20, 'min_samples_split': 27, 'min_samples_leaf': 6, 'max_features': 'log2', 'weight_0': 0.4897959183673469, 'weight_1': 2}. Best is trial 11 with value: 0.5270369582511419.\u001b[0m\n"
     ]
    }
   ],
   "source": [
    "def objective_rfc(trial):\n",
    "    \n",
    "    n_estimators = trial.suggest_int('n_estimators',500,1200,100)\n",
    "    max_depth = trial.suggest_int('max_depth',3,20,1)\n",
    "    min_samples_split = trial.suggest_int('min_samples_split',2,30,1)\n",
    "    min_samples_leaf = trial.suggest_int('min_samples_leaf',2,30,1)\n",
    "    max_features = trial.suggest_categorical('max_features',['sqrt', 'log2'])\n",
    "    weight_0 = trial.suggest_categorical('weight_0',list(np.linspace(0,1,50)))\n",
    "    weight_1 = trial.suggest_categorical('weight_1',[1,2,3.7955240478176258,4,5,10,20,50])\n",
    "    weights = {0:float(weight_0),1:float(weight_1)}\n",
    "    \n",
    "    rfc_model = RandomForestClassifier(n_jobs = -1,\n",
    "                                      max_depth = max_depth,\n",
    "                                      n_estimators = n_estimators,\n",
    "                                      min_samples_split = min_samples_split,\n",
    "                                      min_samples_leaf = min_samples_leaf,\n",
    "                                      max_features = max_features,\n",
    "                                      class_weight = weights,\n",
    "                                      verbose=0\n",
    "                                    )\n",
    "    return cross_val_score(rfc_model,np.array(train.iloc[:,3:]).astype('float32')\n",
    "                             ,train['label'],cv = 3,n_jobs = -1,scoring = 'f1').mean()\n",
    "\n",
    "study_rfc = optuna.create_study(direction='maximize')\n",
    "study_rfc.optimize(objective_rfc,n_trials = 50)"
   ]
  },
  {
   "cell_type": "code",
   "execution_count": 5,
   "id": "db39f45f",
   "metadata": {},
   "outputs": [
    {
     "name": "stdout",
     "output_type": "stream",
     "text": [
      "F1-Score: 0.5270369582511419\n",
      "Best hyperparameters: {'n_estimators': 1200, 'max_depth': 20, 'min_samples_split': 2, 'min_samples_leaf': 2, 'max_features': 'sqrt', 'weight_0': 0.26530612244897955, 'weight_1': 2}\n"
     ]
    }
   ],
   "source": [
    "trial_rfc = study_rfc.best_trial\n",
    "print('F1-Score: {}'.format(trial_rfc.value))\n",
    "print(\"Best hyperparameters: {}\".format(trial_rfc.params))"
   ]
  },
  {
   "cell_type": "code",
   "execution_count": 4,
   "id": "e533513b",
   "metadata": {},
   "outputs": [
    {
     "name": "stdout",
     "output_type": "stream",
     "text": [
      "0.8792914249882426\n",
      "0.3636363636363637\n",
      "[[5389  552]\n",
      " [ 218  220]]\n"
     ]
    }
   ],
   "source": [
    "weights = {0: 0.26530612244897955, 1: 2}\n",
    "RFC_params = {'n_estimators': 1200, 'max_depth': 20, 'min_samples_split': 2,\n",
    "              'min_samples_leaf': 2, 'max_features': 'sqrt',\n",
    "              'class_weight':weights\n",
    "              }\n",
    "RFC_Model = RandomForestClassifier(**RFC_params)\n",
    "RFC_Model.fit(np.array(train.iloc[:,3:]),train['label'])\n",
    "y_pred = RFC_Model.predict(np.array(validation.iloc[:,3:]))\n",
    "print(accuracy_score(validation['label'],y_pred))\n",
    "print(f1_score(validation['label'],y_pred))\n",
    "print(confusion_matrix(validation['label'],y_pred))"
   ]
  },
  {
   "cell_type": "code",
   "execution_count": 8,
   "id": "297ae7ad",
   "metadata": {},
   "outputs": [
    {
     "data": {
      "application/javascript": [
       "\n",
       "        if (window._pyforest_update_imports_cell) { window._pyforest_update_imports_cell('import matplotlib.pyplot as plt'); }\n",
       "    "
      ],
      "text/plain": [
       "<IPython.core.display.Javascript object>"
      ]
     },
     "metadata": {},
     "output_type": "display_data"
    },
    {
     "data": {
      "application/javascript": [
       "\n",
       "        if (window._pyforest_update_imports_cell) { window._pyforest_update_imports_cell('import matplotlib.pyplot as plt'); }\n",
       "    "
      ],
      "text/plain": [
       "<IPython.core.display.Javascript object>"
      ]
     },
     "metadata": {},
     "output_type": "display_data"
    },
    {
     "data": {
      "application/javascript": [
       "\n",
       "        if (window._pyforest_update_imports_cell) { window._pyforest_update_imports_cell('import matplotlib.pyplot as plt'); }\n",
       "    "
      ],
      "text/plain": [
       "<IPython.core.display.Javascript object>"
      ]
     },
     "metadata": {},
     "output_type": "display_data"
    },
    {
     "data": {
      "image/png": "[encoded data removed]",
      "text/plain": [
       "<Figure size 1440x720 with 1 Axes>"
      ]
     },
     "metadata": {
      "needs_background": "light"
     },
     "output_type": "display_data"
    },
    {
     "name": "stdout",
     "output_type": "stream",
     "text": [
      "0.39903264812575573\n"
     ]
    }
   ],
   "source": [
    "y_pred_prob = RFC_Model.predict_proba(np.array(validation.iloc[:,3:]))\n",
    "f1_scores_rfc = []\n",
    "partition = np.linspace(0,1,1000)\n",
    "for p in partition:\n",
    "    pred = (y_pred_prob[:,1]>p).astype(int)\n",
    "    f1_scores_rfc.append(f1_score(validation['label'],pred))\n",
    "    \n",
    "plt.figure(figsize = [20,10])\n",
    "plt.plot(partition,f1_scores_rfc)    \n",
    "plt.show()\n",
    "print(max(f1_scores_rfc))"
   ]
  },
  {
   "cell_type": "code",
   "execution_count": null,
   "id": "e40810bf",
   "metadata": {
    "scrolled": true
   },
   "outputs": [
    {
     "name": "stderr",
     "output_type": "stream",
     "text": [
      "\u001b[32m[I 2022-02-20 12:48:51,412]\u001b[0m A new study created in memory with name: no-name-a2c37812-0547-415e-a44c-71794a620b81\u001b[0m\n",
      "\u001b[32m[I 2022-02-20 12:49:26,426]\u001b[0m Trial 0 finished with value: 0.3868955012661964 and parameters: {'n_estimators': 400, 'learning_rate': 0.11140000000000001, 'max_depth': 3, 'min_child_weight': 5, 'gamma': 0.2, 'colsample_bytree': 0.2, 'scale_pos_weight': 25}. Best is trial 0 with value: 0.3868955012661964.\u001b[0m\n",
      "\u001b[32m[I 2022-02-20 13:04:04,399]\u001b[0m Trial 1 finished with value: 0.4933661272813814 and parameters: {'n_estimators': 400, 'learning_rate': 0.079, 'max_depth': 19, 'min_child_weight': 3, 'gamma': 0.1, 'colsample_bytree': 0.9, 'scale_pos_weight': 100}. Best is trial 1 with value: 0.4933661272813814.\u001b[0m\n",
      "\u001b[32m[I 2022-02-20 13:08:58,479]\u001b[0m Trial 2 finished with value: 0.5226694887748411 and parameters: {'n_estimators': 400, 'learning_rate': 0.0154, 'max_depth': 16, 'min_child_weight': 13, 'gamma': 0.30000000000000004, 'colsample_bytree': 0.30000000000000004, 'scale_pos_weight': 20}. Best is trial 2 with value: 0.5226694887748411.\u001b[0m\n",
      "\u001b[32m[I 2022-02-20 13:18:29,370]\u001b[0m Trial 3 finished with value: 0.48745940691063505 and parameters: {'n_estimators': 700, 'learning_rate': 0.1423, 'max_depth': 9, 'min_child_weight': 13, 'gamma': 0.1, 'colsample_bytree': 0.7, 'scale_pos_weight': 100}. Best is trial 2 with value: 0.5226694887748411.\u001b[0m\n",
      "\u001b[32m[I 2022-02-20 13:24:41,388]\u001b[0m Trial 4 finished with value: 0.36321477999559654 and parameters: {'n_estimators': 700, 'learning_rate': 0.0369, 'max_depth': 4, 'min_child_weight': 5, 'gamma': 0.2, 'colsample_bytree': 0.9, 'scale_pos_weight': 75}. Best is trial 2 with value: 0.5226694887748411.\u001b[0m\n",
      "\u001b[32m[I 2022-02-20 13:25:07,864]\u001b[0m Trial 5 finished with value: 0.38447093468505633 and parameters: {'n_estimators': 100, 'learning_rate': 0.1501, 'max_depth': 4, 'min_child_weight': 7, 'gamma': 0.30000000000000004, 'colsample_bytree': 0.4, 'scale_pos_weight': 1}. Best is trial 2 with value: 0.5226694887748411.\u001b[0m\n",
      "\u001b[32m[I 2022-02-20 13:29:32,745]\u001b[0m Trial 6 finished with value: 0.523184973733666 and parameters: {'n_estimators': 500, 'learning_rate': 0.0645, 'max_depth': 13, 'min_child_weight': 7, 'gamma': 0.4, 'colsample_bytree': 0.30000000000000004, 'scale_pos_weight': 3}. Best is trial 6 with value: 0.523184973733666.\u001b[0m\n",
      "\u001b[32m[I 2022-02-20 13:36:15,459]\u001b[0m Trial 7 finished with value: 0.49981070622850304 and parameters: {'n_estimators': 600, 'learning_rate': 0.0726, 'max_depth': 14, 'min_child_weight': 11, 'gamma': 0.30000000000000004, 'colsample_bytree': 0.4, 'scale_pos_weight': 50}. Best is trial 6 with value: 0.523184973733666.\u001b[0m\n",
      "\u001b[32m[I 2022-02-20 13:36:55,480]\u001b[0m Trial 8 finished with value: 0.3503490516474464 and parameters: {'n_estimators': 300, 'learning_rate': 0.06820000000000001, 'max_depth': 4, 'min_child_weight': 5, 'gamma': 0.0, 'colsample_bytree': 0.2, 'scale_pos_weight': 50}. Best is trial 6 with value: 0.523184973733666.\u001b[0m\n",
      "\u001b[32m[I 2022-02-20 13:41:25,640]\u001b[0m Trial 9 finished with value: 0.5149432742270404 and parameters: {'n_estimators': 800, 'learning_rate': 0.1071, 'max_depth': 9, 'min_child_weight': 1, 'gamma': 0.4, 'colsample_bytree': 0.2, 'scale_pos_weight': 10}. Best is trial 6 with value: 0.523184973733666.\u001b[0m\n",
      "\u001b[32m[I 2022-02-20 14:02:24,066]\u001b[0m Trial 10 finished with value: 0.5219401105527782 and parameters: {'n_estimators': 1000, 'learning_rate': 0.1968, 'max_depth': 20, 'min_child_weight': 9, 'gamma': 0.6, 'colsample_bytree': 0.6000000000000001, 'scale_pos_weight': 3}. Best is trial 6 with value: 0.523184973733666.\u001b[0m\n",
      "\u001b[32m[I 2022-02-20 14:04:32,856]\u001b[0m Trial 11 finished with value: 0.4583690206932278 and parameters: {'n_estimators': 200, 'learning_rate': 0.002, 'max_depth': 16, 'min_child_weight': 13, 'gamma': 0.5, 'colsample_bytree': 0.4, 'scale_pos_weight': 20}. Best is trial 6 with value: 0.523184973733666.\u001b[0m\n",
      "\u001b[32m[I 2022-02-20 14:08:25,170]\u001b[0m Trial 12 finished with value: 0.431083972875933 and parameters: {'n_estimators': 500, 'learning_rate': 0.0011, 'max_depth': 13, 'min_child_weight': 9, 'gamma': 0.5, 'colsample_bytree': 0.30000000000000004, 'scale_pos_weight': 20}. Best is trial 6 with value: 0.523184973733666.\u001b[0m\n",
      "\u001b[32m[I 2022-02-20 14:14:59,908]\u001b[0m Trial 13 finished with value: 0.5295493151710263 and parameters: {'n_estimators': 500, 'learning_rate': 0.0284, 'max_depth': 17, 'min_child_weight': 11, 'gamma': 0.4, 'colsample_bytree': 0.5, 'scale_pos_weight': 3}. Best is trial 13 with value: 0.5295493151710263.\u001b[0m\n",
      "\u001b[32m[I 2022-02-20 14:21:22,108]\u001b[0m Trial 14 finished with value: 0.5299552563147055 and parameters: {'n_estimators': 600, 'learning_rate': 0.0449, 'max_depth': 10, 'min_child_weight': 9, 'gamma': 0.5, 'colsample_bytree': 0.6000000000000001, 'scale_pos_weight': 3}. Best is trial 14 with value: 0.5299552563147055.\u001b[0m\n",
      "\u001b[32m[I 2022-02-20 14:34:05,393]\u001b[0m Trial 15 finished with value: 0.5277320610110391 and parameters: {'n_estimators': 900, 'learning_rate': 0.0356, 'max_depth': 9, 'min_child_weight': 11, 'gamma': 0.6, 'colsample_bytree': 0.7, 'scale_pos_weight': 4}. Best is trial 14 with value: 0.5299552563147055.\u001b[0m\n",
      "\u001b[32m[I 2022-02-20 14:39:32,339]\u001b[0m Trial 16 finished with value: 0.5320740496713383 and parameters: {'n_estimators': 600, 'learning_rate': 0.0436, 'max_depth': 7, 'min_child_weight': 9, 'gamma': 0.5, 'colsample_bytree': 0.6000000000000001, 'scale_pos_weight': 3}. Best is trial 16 with value: 0.5320740496713383.\u001b[0m\n",
      "\u001b[32m[I 2022-02-20 14:45:45,446]\u001b[0m Trial 17 finished with value: 0.5247115823359804 and parameters: {'n_estimators': 700, 'learning_rate': 0.0432, 'max_depth': 7, 'min_child_weight': 9, 'gamma': 0.5, 'colsample_bytree': 0.7, 'scale_pos_weight': 15}. Best is trial 16 with value: 0.5320740496713383.\u001b[0m\n",
      "\u001b[32m[I 2022-02-20 14:50:15,515]\u001b[0m Trial 18 finished with value: 0.525586081402276 and parameters: {'n_estimators': 600, 'learning_rate': 0.051000000000000004, 'max_depth': 7, 'min_child_weight': 9, 'gamma': 0.6, 'colsample_bytree': 0.6000000000000001, 'scale_pos_weight': 6.5910480956352515}. Best is trial 16 with value: 0.5320740496713383.\u001b[0m\n",
      "\u001b[32m[I 2022-02-20 15:03:36,542]\u001b[0m Trial 19 finished with value: 0.5219344214350395 and parameters: {'n_estimators': 900, 'learning_rate': 0.0969, 'max_depth': 11, 'min_child_weight': 7, 'gamma': 0.5, 'colsample_bytree': 0.8, 'scale_pos_weight': 2}. Best is trial 16 with value: 0.5320740496713383.\u001b[0m\n",
      "\u001b[32m[I 2022-02-20 15:09:20,148]\u001b[0m Trial 20 finished with value: 0.5376778346064265 and parameters: {'n_estimators': 800, 'learning_rate': 0.0183, 'max_depth': 7, 'min_child_weight': 11, 'gamma': 0.4, 'colsample_bytree': 0.5, 'scale_pos_weight': 5}. Best is trial 20 with value: 0.5376778346064265.\u001b[0m\n",
      "\u001b[32m[I 2022-02-20 15:14:18,464]\u001b[0m Trial 21 finished with value: 0.5235149655847727 and parameters: {'n_estimators': 800, 'learning_rate': 0.0138, 'max_depth': 6, 'min_child_weight': 11, 'gamma': 0.4, 'colsample_bytree': 0.5, 'scale_pos_weight': 5}. Best is trial 20 with value: 0.5376778346064265.\u001b[0m\n",
      "\u001b[32m[I 2022-02-20 15:24:56,559]\u001b[0m Trial 22 finished with value: 0.5357374621627665 and parameters: {'n_estimators': 800, 'learning_rate': 0.020800000000000003, 'max_depth': 11, 'min_child_weight': 9, 'gamma': 0.5, 'colsample_bytree': 0.6000000000000001, 'scale_pos_weight': 5}. Best is trial 20 with value: 0.5376778346064265.\u001b[0m\n",
      "\u001b[32m[I 2022-02-20 15:32:22,955]\u001b[0m Trial 23 finished with value: 0.5348562696620923 and parameters: {'n_estimators': 1000, 'learning_rate': 0.017800000000000003, 'max_depth': 7, 'min_child_weight': 11, 'gamma': 0.4, 'colsample_bytree': 0.5, 'scale_pos_weight': 5}. Best is trial 20 with value: 0.5376778346064265.\u001b[0m\n",
      "\u001b[32m[I 2022-02-20 15:38:52,876]\u001b[0m Trial 24 finished with value: 0.5335159551661942 and parameters: {'n_estimators': 1000, 'learning_rate': 0.017, 'max_depth': 6, 'min_child_weight': 11, 'gamma': 0.4, 'colsample_bytree': 0.5, 'scale_pos_weight': 5}. Best is trial 20 with value: 0.5376778346064265.\u001b[0m\n",
      "\u001b[32m[I 2022-02-20 15:48:40,002]\u001b[0m Trial 25 finished with value: 0.5295481133221123 and parameters: {'n_estimators': 900, 'learning_rate': 0.0027, 'max_depth': 11, 'min_child_weight': 13, 'gamma': 0.4, 'colsample_bytree': 0.5, 'scale_pos_weight': 5}. Best is trial 20 with value: 0.5376778346064265.\u001b[0m\n"
     ]
    },
    {
     "name": "stderr",
     "output_type": "stream",
     "text": [
      "\u001b[32m[I 2022-02-20 15:54:10,012]\u001b[0m Trial 26 finished with value: 0.5298917503137066 and parameters: {'n_estimators': 800, 'learning_rate': 0.027700000000000002, 'max_depth': 8, 'min_child_weight': 11, 'gamma': 0.2, 'colsample_bytree': 0.4, 'scale_pos_weight': 5}. Best is trial 20 with value: 0.5376778346064265.\u001b[0m\n",
      "\u001b[32m[I 2022-02-20 16:11:37,044]\u001b[0m Trial 27 finished with value: 0.5232034169984493 and parameters: {'n_estimators': 1000, 'learning_rate': 0.0565, 'max_depth': 12, 'min_child_weight': 13, 'gamma': 0.30000000000000004, 'colsample_bytree': 0.8, 'scale_pos_weight': 5}. Best is trial 20 with value: 0.5376778346064265.\u001b[0m\n",
      "\u001b[32m[I 2022-02-20 16:17:24,510]\u001b[0m Trial 28 finished with value: 0.5194247998293983 and parameters: {'n_estimators': 900, 'learning_rate': 0.08460000000000001, 'max_depth': 6, 'min_child_weight': 11, 'gamma': 0.6, 'colsample_bytree': 0.5, 'scale_pos_weight': 5}. Best is trial 20 with value: 0.5376778346064265.\u001b[0m\n"
     ]
    }
   ],
   "source": [
    "def objective_xgb(trial):\n",
    "    n_estimators = trial.suggest_int('n_estimators',100,1000,100)\n",
    "    learning_rate = trial.suggest_float('learning_rate',0.001,0.2,step=0.0001)\n",
    "    max_depth = trial.suggest_int('max_depth',3,20,1)\n",
    "    min_child_weight = trial.suggest_int('min_child_weight',1,13,2)\n",
    "    gamma = trial.suggest_float('gamma',0,0.6,step=0.1)\n",
    "    colsample_bytree = trial.suggest_float('colsample_bytree',0.2,0.9,step=0.1)\n",
    "    scale_pos_weight = trial.suggest_categorical('scale_pos_weight',[1,2,3,4,5,6.5910480956352515,10,15,20,25,50,75,100])\n",
    "    \n",
    "    XGB_model = XGBClassifier(n_estimators = n_estimators,\n",
    "                              learning_rate = learning_rate , max_depth = max_depth,\n",
    "                              min_child_weight = min_child_weight , gamma = gamma,\n",
    "                              colsample_bytree = colsample_bytree,\n",
    "                             scale_pos_weight = scale_pos_weight)\n",
    "    return cross_val_score(XGB_model,np.array(train.iloc[:,3:]).astype('float32')\n",
    "                             ,train['label'],cv = 3,n_jobs = -1,scoring = 'f1').mean()\n",
    "\n",
    "study_xgb = optuna.create_study(direction = 'maximize')\n",
    "study_xgb.optimize(objective_xgb,n_trials = 50)"
   ]
  },
  {
   "cell_type": "code",
   "execution_count": 7,
   "id": "e11960a5",
   "metadata": {},
   "outputs": [
    {
     "name": "stdout",
     "output_type": "stream",
     "text": [
      "F1-Score: 0.5376778346064265\n",
      "Best hyperparameters: {'n_estimators': 800, 'learning_rate': 0.0183, 'max_depth': 7, 'min_child_weight': 11, 'gamma': 0.4, 'colsample_bytree': 0.5, 'scale_pos_weight': 5}\n"
     ]
    }
   ],
   "source": [
    "trial_xgb = study_xgb.best_trial\n",
    "print('F1-Score: {}'.format(trial_xgb.value))\n",
    "print(\"Best hyperparameters: {}\".format(trial_xgb.params))"
   ]
  },
  {
   "cell_type": "code",
   "execution_count": 9,
   "id": "781b1a05",
   "metadata": {},
   "outputs": [
    {
     "name": "stderr",
     "output_type": "stream",
     "text": [
      "C:\\Users\\91988\\AppData\\Roaming\\Python\\Python38\\site-packages\\xgboost\\sklearn.py:1146: UserWarning: The use of label encoder in XGBClassifier is deprecated and will be removed in a future release. To remove this warning, do the following: 1) Pass option use_label_encoder=False when constructing XGBClassifier object; and 2) Encode your labels (y) as integers starting with 0, i.e. 0, 1, 2, ..., [num_class - 1].\n",
      "  warnings.warn(label_encoder_deprecation_msg, UserWarning)\n"
     ]
    },
    {
     "name": "stdout",
     "output_type": "stream",
     "text": [
      "[18:32:39] WARNING: C:/Users/Administrator/workspace/xgboost-win64_release_1.4.0/src/learner.cc:1095: Starting in XGBoost 1.3.0, the default evaluation metric used with the objective 'binary:logistic' was changed from 'error' to 'logloss'. Explicitly set eval_metric if you'd like to restore the old behavior.\n",
      "0.8739614359617495\n",
      "0.39090909090909093\n",
      "[[5317  624]\n",
      " [ 180  258]]\n"
     ]
    }
   ],
   "source": [
    "XGB_params = {'n_estimators': 800, 'learning_rate': 0.0183, 'max_depth': 7,\n",
    "              'min_child_weight': 11, 'gamma': 0.4, 'colsample_bytree': 0.5,\n",
    "              'scale_pos_weight': 5}\n",
    "XGB_model = XGBClassifier(**XGB_params)\n",
    "XGB_model.fit(np.array(train.iloc[:,3:]),train['label'])\n",
    "y_pred = XGB_model.predict(np.array(validation.iloc[:,3:]))\n",
    "print(accuracy_score(validation['label'],y_pred))\n",
    "print(f1_score(validation['label'],y_pred))\n",
    "print(confusion_matrix(validation['label'],y_pred))"
   ]
  },
  {
   "cell_type": "code",
   "execution_count": 10,
   "id": "da0c9299",
   "metadata": {},
   "outputs": [
    {
     "data": {
      "application/javascript": [
       "\n",
       "        if (window._pyforest_update_imports_cell) { window._pyforest_update_imports_cell('import matplotlib.pyplot as plt'); }\n",
       "    "
      ],
      "text/plain": [
       "<IPython.core.display.Javascript object>"
      ]
     },
     "metadata": {},
     "output_type": "display_data"
    },
    {
     "data": {
      "application/javascript": [
       "\n",
       "        if (window._pyforest_update_imports_cell) { window._pyforest_update_imports_cell('import matplotlib.pyplot as plt'); }\n",
       "    "
      ],
      "text/plain": [
       "<IPython.core.display.Javascript object>"
      ]
     },
     "metadata": {},
     "output_type": "display_data"
    },
    {
     "data": {
      "application/javascript": [
       "\n",
       "        if (window._pyforest_update_imports_cell) { window._pyforest_update_imports_cell('import matplotlib.pyplot as plt'); }\n",
       "    "
      ],
      "text/plain": [
       "<IPython.core.display.Javascript object>"
      ]
     },
     "metadata": {},
     "output_type": "display_data"
    },
    {
     "data": {
      "image/png": "[encoded data removed]",
      "text/plain": [
       "<Figure size 1440x720 with 1 Axes>"
      ]
     },
     "metadata": {
      "needs_background": "light"
     },
     "output_type": "display_data"
    },
    {
     "name": "stdout",
     "output_type": "stream",
     "text": [
      "0.4128787878787879\n"
     ]
    }
   ],
   "source": [
    "y_pred_prob = XGB_model.predict_proba(np.array(validation.iloc[:,3:]))\n",
    "f1_scores_xgb = []\n",
    "partition = np.linspace(0,1,1000)\n",
    "for p in partition:\n",
    "    pred = (y_pred_prob[:,1]>p).astype(int)\n",
    "    f1_scores_xgb.append(f1_score(validation['label'],pred))\n",
    "    \n",
    "plt.figure(figsize = [20,10])\n",
    "plt.plot(partition,f1_scores_xgb)    \n",
    "plt.show()\n",
    "print(max(f1_scores_xgb))"
   ]
  },
  {
   "cell_type": "code",
   "execution_count": null,
   "id": "77262c51",
   "metadata": {},
   "outputs": [],
   "source": []
  }
 ],
 "metadata": {
  "kernelspec": {
   "display_name": "Python [conda env:root] *",
   "language": "python",
   "name": "conda-root-py"
  },
  "language_info": {
   "codemirror_mode": {
    "name": "ipython",
    "version": 3
   },
   "file_extension": ".py",
   "mimetype": "text/x-python",
   "name": "python",
   "nbconvert_exporter": "python",
   "pygments_lexer": "ipython3",
   "version": "3.8.5"
  }
 },
 "nbformat": 4,
 "nbformat_minor": 5
}
